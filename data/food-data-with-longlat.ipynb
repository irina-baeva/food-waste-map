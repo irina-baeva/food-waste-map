{
 "cells": [
  {
   "cell_type": "code",
   "execution_count": 2,
   "metadata": {},
   "outputs": [],
   "source": [
    "import pandas as pd\n",
    "import numpy as np"
   ]
  },
  {
   "cell_type": "code",
   "execution_count": 3,
   "metadata": {},
   "outputs": [],
   "source": [
    "df1 = pd.read_csv('coordinates.csv', sep=';')\n",
    "df2 = pd.read_csv('data_2017.csv', sep=',')"
   ]
  },
  {
   "cell_type": "code",
   "execution_count": 4,
   "metadata": {},
   "outputs": [
    {
     "output_type": "execute_result",
     "data": {
      "text/plain": "    country   latitude  longitude                  Area  Unnamed: 4  \\\n0        AD  42.546245   1.601554               Andorra         NaN   \n1        AE  23.424076  53.847818  United Arab Emirates         NaN   \n2        AF  33.939110  67.709953           Afghanistan         NaN   \n3        AG  17.060816 -61.796428   Antigua and Barbuda         NaN   \n4        AI  18.220554 -63.068615              Anguilla         NaN   \n..      ...        ...        ...                   ...         ...   \n240      YE  15.552727  48.516388                 Yemen         NaN   \n241      YT -12.827500  45.166244               Mayotte         NaN   \n242      ZA -30.559482  22.937506          South Africa         NaN   \n243      ZM -13.133897  27.849332                Zambia         NaN   \n244      ZW -19.015438  29.154857              Zimbabwe         NaN   \n\n     Unnamed: 5  Unnamed: 6  \n0           NaN         NaN  \n1           NaN         NaN  \n2           NaN         NaN  \n3           NaN         NaN  \n4           NaN         NaN  \n..          ...         ...  \n240         NaN         NaN  \n241         NaN         NaN  \n242         NaN         NaN  \n243         NaN         NaN  \n244         NaN         NaN  \n\n[245 rows x 7 columns]",
      "text/html": "<div>\n<style scoped>\n    .dataframe tbody tr th:only-of-type {\n        vertical-align: middle;\n    }\n\n    .dataframe tbody tr th {\n        vertical-align: top;\n    }\n\n    .dataframe thead th {\n        text-align: right;\n    }\n</style>\n<table border=\"1\" class=\"dataframe\">\n  <thead>\n    <tr style=\"text-align: right;\">\n      <th></th>\n      <th>country</th>\n      <th>latitude</th>\n      <th>longitude</th>\n      <th>Area</th>\n      <th>Unnamed: 4</th>\n      <th>Unnamed: 5</th>\n      <th>Unnamed: 6</th>\n    </tr>\n  </thead>\n  <tbody>\n    <tr>\n      <th>0</th>\n      <td>AD</td>\n      <td>42.546245</td>\n      <td>1.601554</td>\n      <td>Andorra</td>\n      <td>NaN</td>\n      <td>NaN</td>\n      <td>NaN</td>\n    </tr>\n    <tr>\n      <th>1</th>\n      <td>AE</td>\n      <td>23.424076</td>\n      <td>53.847818</td>\n      <td>United Arab Emirates</td>\n      <td>NaN</td>\n      <td>NaN</td>\n      <td>NaN</td>\n    </tr>\n    <tr>\n      <th>2</th>\n      <td>AF</td>\n      <td>33.939110</td>\n      <td>67.709953</td>\n      <td>Afghanistan</td>\n      <td>NaN</td>\n      <td>NaN</td>\n      <td>NaN</td>\n    </tr>\n    <tr>\n      <th>3</th>\n      <td>AG</td>\n      <td>17.060816</td>\n      <td>-61.796428</td>\n      <td>Antigua and Barbuda</td>\n      <td>NaN</td>\n      <td>NaN</td>\n      <td>NaN</td>\n    </tr>\n    <tr>\n      <th>4</th>\n      <td>AI</td>\n      <td>18.220554</td>\n      <td>-63.068615</td>\n      <td>Anguilla</td>\n      <td>NaN</td>\n      <td>NaN</td>\n      <td>NaN</td>\n    </tr>\n    <tr>\n      <th>...</th>\n      <td>...</td>\n      <td>...</td>\n      <td>...</td>\n      <td>...</td>\n      <td>...</td>\n      <td>...</td>\n      <td>...</td>\n    </tr>\n    <tr>\n      <th>240</th>\n      <td>YE</td>\n      <td>15.552727</td>\n      <td>48.516388</td>\n      <td>Yemen</td>\n      <td>NaN</td>\n      <td>NaN</td>\n      <td>NaN</td>\n    </tr>\n    <tr>\n      <th>241</th>\n      <td>YT</td>\n      <td>-12.827500</td>\n      <td>45.166244</td>\n      <td>Mayotte</td>\n      <td>NaN</td>\n      <td>NaN</td>\n      <td>NaN</td>\n    </tr>\n    <tr>\n      <th>242</th>\n      <td>ZA</td>\n      <td>-30.559482</td>\n      <td>22.937506</td>\n      <td>South Africa</td>\n      <td>NaN</td>\n      <td>NaN</td>\n      <td>NaN</td>\n    </tr>\n    <tr>\n      <th>243</th>\n      <td>ZM</td>\n      <td>-13.133897</td>\n      <td>27.849332</td>\n      <td>Zambia</td>\n      <td>NaN</td>\n      <td>NaN</td>\n      <td>NaN</td>\n    </tr>\n    <tr>\n      <th>244</th>\n      <td>ZW</td>\n      <td>-19.015438</td>\n      <td>29.154857</td>\n      <td>Zimbabwe</td>\n      <td>NaN</td>\n      <td>NaN</td>\n      <td>NaN</td>\n    </tr>\n  </tbody>\n</table>\n<p>245 rows × 7 columns</p>\n</div>"
     },
     "metadata": {},
     "execution_count": 4
    }
   ],
   "source": [
    "df1"
   ]
  },
  {
   "cell_type": "code",
   "execution_count": 5,
   "metadata": {},
   "outputs": [
    {
     "output_type": "execute_result",
     "data": {
      "text/plain": "     Domain Code             Domain  Area Code         Area  Element Code  \\\n0            FBS  New Food Balances          2  Afghanistan          5123   \n1            FBS  New Food Balances          2  Afghanistan          5123   \n2            FBS  New Food Balances          2  Afghanistan          5123   \n3            FBS  New Food Balances          2  Afghanistan          5123   \n4            FBS  New Food Balances          2  Afghanistan          5123   \n...          ...                ...        ...          ...           ...   \n5808         FBS  New Food Balances        181     Zimbabwe          5123   \n5809         FBS  New Food Balances        181     Zimbabwe          5123   \n5810         FBS  New Food Balances        181     Zimbabwe          5123   \n5811         FBS  New Food Balances        181     Zimbabwe          5123   \n5812         FBS  New Food Balances        181     Zimbabwe          5123   \n\n     Element  Item Code                     Item  Year Code  Year  \\\n0     Losses       2511       Wheat and products       2017  2017   \n1     Losses       2805        Rice and products       2017  2017   \n2     Losses       2513      Barley and products       2017  2017   \n3     Losses       2514       Maize and products       2017  2017   \n4     Losses       2517      Millet and products       2017  2017   \n...      ...        ...                      ...        ...   ...   \n5808  Losses       2732       Mutton & Goat Meat       2017  2017   \n5809  Losses       2733                  Pigmeat       2017  2017   \n5810  Losses       2734             Poultry Meat       2017  2017   \n5811  Losses       2744                     Eggs       2017  2017   \n5812  Losses       2848  Milk - Excluding Butter       2017  2017   \n\n             Unit  Value Flag   Flag Description Note  \n0     1000 tonnes    642    S  Standardized data  NaN  \n1     1000 tonnes     24    S  Standardized data  NaN  \n2     1000 tonnes     14    S  Standardized data  NaN  \n3     1000 tonnes     26    S  Standardized data  NaN  \n4     1000 tonnes      0    S  Standardized data  NaN  \n...           ...    ...  ...                ...  ...  \n5808  1000 tonnes      1    S  Standardized data  NaN  \n5809  1000 tonnes      1    S  Standardized data  NaN  \n5810  1000 tonnes      3    S  Standardized data  NaN  \n5811  1000 tonnes      1    S  Standardized data  NaN  \n5812  1000 tonnes     21    S  Standardized data  NaN  \n\n[5813 rows x 15 columns]",
      "text/html": "<div>\n<style scoped>\n    .dataframe tbody tr th:only-of-type {\n        vertical-align: middle;\n    }\n\n    .dataframe tbody tr th {\n        vertical-align: top;\n    }\n\n    .dataframe thead th {\n        text-align: right;\n    }\n</style>\n<table border=\"1\" class=\"dataframe\">\n  <thead>\n    <tr style=\"text-align: right;\">\n      <th></th>\n      <th>Domain Code</th>\n      <th>Domain</th>\n      <th>Area Code</th>\n      <th>Area</th>\n      <th>Element Code</th>\n      <th>Element</th>\n      <th>Item Code</th>\n      <th>Item</th>\n      <th>Year Code</th>\n      <th>Year</th>\n      <th>Unit</th>\n      <th>Value</th>\n      <th>Flag</th>\n      <th>Flag Description</th>\n      <th>Note</th>\n    </tr>\n  </thead>\n  <tbody>\n    <tr>\n      <th>0</th>\n      <td>FBS</td>\n      <td>New Food Balances</td>\n      <td>2</td>\n      <td>Afghanistan</td>\n      <td>5123</td>\n      <td>Losses</td>\n      <td>2511</td>\n      <td>Wheat and products</td>\n      <td>2017</td>\n      <td>2017</td>\n      <td>1000 tonnes</td>\n      <td>642</td>\n      <td>S</td>\n      <td>Standardized data</td>\n      <td>NaN</td>\n    </tr>\n    <tr>\n      <th>1</th>\n      <td>FBS</td>\n      <td>New Food Balances</td>\n      <td>2</td>\n      <td>Afghanistan</td>\n      <td>5123</td>\n      <td>Losses</td>\n      <td>2805</td>\n      <td>Rice and products</td>\n      <td>2017</td>\n      <td>2017</td>\n      <td>1000 tonnes</td>\n      <td>24</td>\n      <td>S</td>\n      <td>Standardized data</td>\n      <td>NaN</td>\n    </tr>\n    <tr>\n      <th>2</th>\n      <td>FBS</td>\n      <td>New Food Balances</td>\n      <td>2</td>\n      <td>Afghanistan</td>\n      <td>5123</td>\n      <td>Losses</td>\n      <td>2513</td>\n      <td>Barley and products</td>\n      <td>2017</td>\n      <td>2017</td>\n      <td>1000 tonnes</td>\n      <td>14</td>\n      <td>S</td>\n      <td>Standardized data</td>\n      <td>NaN</td>\n    </tr>\n    <tr>\n      <th>3</th>\n      <td>FBS</td>\n      <td>New Food Balances</td>\n      <td>2</td>\n      <td>Afghanistan</td>\n      <td>5123</td>\n      <td>Losses</td>\n      <td>2514</td>\n      <td>Maize and products</td>\n      <td>2017</td>\n      <td>2017</td>\n      <td>1000 tonnes</td>\n      <td>26</td>\n      <td>S</td>\n      <td>Standardized data</td>\n      <td>NaN</td>\n    </tr>\n    <tr>\n      <th>4</th>\n      <td>FBS</td>\n      <td>New Food Balances</td>\n      <td>2</td>\n      <td>Afghanistan</td>\n      <td>5123</td>\n      <td>Losses</td>\n      <td>2517</td>\n      <td>Millet and products</td>\n      <td>2017</td>\n      <td>2017</td>\n      <td>1000 tonnes</td>\n      <td>0</td>\n      <td>S</td>\n      <td>Standardized data</td>\n      <td>NaN</td>\n    </tr>\n    <tr>\n      <th>...</th>\n      <td>...</td>\n      <td>...</td>\n      <td>...</td>\n      <td>...</td>\n      <td>...</td>\n      <td>...</td>\n      <td>...</td>\n      <td>...</td>\n      <td>...</td>\n      <td>...</td>\n      <td>...</td>\n      <td>...</td>\n      <td>...</td>\n      <td>...</td>\n      <td>...</td>\n    </tr>\n    <tr>\n      <th>5808</th>\n      <td>FBS</td>\n      <td>New Food Balances</td>\n      <td>181</td>\n      <td>Zimbabwe</td>\n      <td>5123</td>\n      <td>Losses</td>\n      <td>2732</td>\n      <td>Mutton &amp; Goat Meat</td>\n      <td>2017</td>\n      <td>2017</td>\n      <td>1000 tonnes</td>\n      <td>1</td>\n      <td>S</td>\n      <td>Standardized data</td>\n      <td>NaN</td>\n    </tr>\n    <tr>\n      <th>5809</th>\n      <td>FBS</td>\n      <td>New Food Balances</td>\n      <td>181</td>\n      <td>Zimbabwe</td>\n      <td>5123</td>\n      <td>Losses</td>\n      <td>2733</td>\n      <td>Pigmeat</td>\n      <td>2017</td>\n      <td>2017</td>\n      <td>1000 tonnes</td>\n      <td>1</td>\n      <td>S</td>\n      <td>Standardized data</td>\n      <td>NaN</td>\n    </tr>\n    <tr>\n      <th>5810</th>\n      <td>FBS</td>\n      <td>New Food Balances</td>\n      <td>181</td>\n      <td>Zimbabwe</td>\n      <td>5123</td>\n      <td>Losses</td>\n      <td>2734</td>\n      <td>Poultry Meat</td>\n      <td>2017</td>\n      <td>2017</td>\n      <td>1000 tonnes</td>\n      <td>3</td>\n      <td>S</td>\n      <td>Standardized data</td>\n      <td>NaN</td>\n    </tr>\n    <tr>\n      <th>5811</th>\n      <td>FBS</td>\n      <td>New Food Balances</td>\n      <td>181</td>\n      <td>Zimbabwe</td>\n      <td>5123</td>\n      <td>Losses</td>\n      <td>2744</td>\n      <td>Eggs</td>\n      <td>2017</td>\n      <td>2017</td>\n      <td>1000 tonnes</td>\n      <td>1</td>\n      <td>S</td>\n      <td>Standardized data</td>\n      <td>NaN</td>\n    </tr>\n    <tr>\n      <th>5812</th>\n      <td>FBS</td>\n      <td>New Food Balances</td>\n      <td>181</td>\n      <td>Zimbabwe</td>\n      <td>5123</td>\n      <td>Losses</td>\n      <td>2848</td>\n      <td>Milk - Excluding Butter</td>\n      <td>2017</td>\n      <td>2017</td>\n      <td>1000 tonnes</td>\n      <td>21</td>\n      <td>S</td>\n      <td>Standardized data</td>\n      <td>NaN</td>\n    </tr>\n  </tbody>\n</table>\n<p>5813 rows × 15 columns</p>\n</div>"
     },
     "metadata": {},
     "execution_count": 5
    }
   ],
   "source": [
    "df2"
   ]
  },
  {
   "cell_type": "code",
   "execution_count": 6,
   "metadata": {},
   "outputs": [],
   "source": [
    "df_clean = pd.merge(df2, df1[[\"latitude\", \"longitude\", \"Area\", \"country\"]] , on='Area')"
   ]
  },
  {
   "cell_type": "code",
   "execution_count": 7,
   "metadata": {},
   "outputs": [],
   "source": [
    "df_clean.drop(['Domain Code', 'Domain', \"Element Code\", \"Element\", \"Item Code\", \"Flag\", \"Flag Description\", \"Note\" ], axis=1, inplace=True)"
   ]
  },
  {
   "cell_type": "code",
   "execution_count": 8,
   "metadata": {},
   "outputs": [
    {
     "output_type": "execute_result",
     "data": {
      "text/plain": "      Area Code     Area          Item  Year Code  Year         Unit  Value  \\\n3256        149    Nepal  Roots, Other       2017  2017  1000 tonnes     26   \n1740         79  Germany          Yams       2017  2017  1000 tonnes      0   \n\n       latitude  longitude country  \n3256  28.394857  84.124008      NP  \n1740  51.165691  10.451526      DE  ",
      "text/html": "<div>\n<style scoped>\n    .dataframe tbody tr th:only-of-type {\n        vertical-align: middle;\n    }\n\n    .dataframe tbody tr th {\n        vertical-align: top;\n    }\n\n    .dataframe thead th {\n        text-align: right;\n    }\n</style>\n<table border=\"1\" class=\"dataframe\">\n  <thead>\n    <tr style=\"text-align: right;\">\n      <th></th>\n      <th>Area Code</th>\n      <th>Area</th>\n      <th>Item</th>\n      <th>Year Code</th>\n      <th>Year</th>\n      <th>Unit</th>\n      <th>Value</th>\n      <th>latitude</th>\n      <th>longitude</th>\n      <th>country</th>\n    </tr>\n  </thead>\n  <tbody>\n    <tr>\n      <th>3256</th>\n      <td>149</td>\n      <td>Nepal</td>\n      <td>Roots, Other</td>\n      <td>2017</td>\n      <td>2017</td>\n      <td>1000 tonnes</td>\n      <td>26</td>\n      <td>28.394857</td>\n      <td>84.124008</td>\n      <td>NP</td>\n    </tr>\n    <tr>\n      <th>1740</th>\n      <td>79</td>\n      <td>Germany</td>\n      <td>Yams</td>\n      <td>2017</td>\n      <td>2017</td>\n      <td>1000 tonnes</td>\n      <td>0</td>\n      <td>51.165691</td>\n      <td>10.451526</td>\n      <td>DE</td>\n    </tr>\n  </tbody>\n</table>\n</div>"
     },
     "metadata": {},
     "execution_count": 8
    }
   ],
   "source": [
    "df_clean.sample(2)"
   ]
  },
  {
   "cell_type": "code",
   "execution_count": 9,
   "metadata": {},
   "outputs": [],
   "source": [
    "# df_clean.to_csv(\"long_lat_data.csv\", sep='\\t', encoding='utf-8')"
   ]
  },
  {
   "cell_type": "code",
   "execution_count": 10,
   "metadata": {},
   "outputs": [
    {
     "output_type": "execute_result",
     "data": {
      "text/plain": "                     Area Code  Item  Year Code  Year  Unit  Value  latitude  \\\nArea                                                                           \nAfghanistan                 29    29         29    29    29     29        29   \nAlbania                     31    31         31    31    31     31        31   \nAlgeria                     41    41         41    41    41     41        41   \nAngola                      32    32         32    32    32     32        32   \nAntigua and Barbuda         20    20         20    20    20     20        20   \n...                        ...   ...        ...   ...   ...    ...       ...   \nUruguay                     35    35         35    35    35     35        35   \nVanuatu                     14    14         14    14    14     14        14   \nYemen                       33    33         33    33    33     33        33   \nZambia                      34    34         34    34    34     34        34   \nZimbabwe                    42    42         42    42    42     42        42   \n\n                     longitude  country  \nArea                                     \nAfghanistan                 29       29  \nAlbania                     31       31  \nAlgeria                     41       41  \nAngola                      32       32  \nAntigua and Barbuda         20       20  \n...                        ...      ...  \nUruguay                     35       35  \nVanuatu                     14       14  \nYemen                       33       33  \nZambia                      34       34  \nZimbabwe                    42       42  \n\n[148 rows x 9 columns]",
      "text/html": "<div>\n<style scoped>\n    .dataframe tbody tr th:only-of-type {\n        vertical-align: middle;\n    }\n\n    .dataframe tbody tr th {\n        vertical-align: top;\n    }\n\n    .dataframe thead th {\n        text-align: right;\n    }\n</style>\n<table border=\"1\" class=\"dataframe\">\n  <thead>\n    <tr style=\"text-align: right;\">\n      <th></th>\n      <th>Area Code</th>\n      <th>Item</th>\n      <th>Year Code</th>\n      <th>Year</th>\n      <th>Unit</th>\n      <th>Value</th>\n      <th>latitude</th>\n      <th>longitude</th>\n      <th>country</th>\n    </tr>\n    <tr>\n      <th>Area</th>\n      <th></th>\n      <th></th>\n      <th></th>\n      <th></th>\n      <th></th>\n      <th></th>\n      <th></th>\n      <th></th>\n      <th></th>\n    </tr>\n  </thead>\n  <tbody>\n    <tr>\n      <th>Afghanistan</th>\n      <td>29</td>\n      <td>29</td>\n      <td>29</td>\n      <td>29</td>\n      <td>29</td>\n      <td>29</td>\n      <td>29</td>\n      <td>29</td>\n      <td>29</td>\n    </tr>\n    <tr>\n      <th>Albania</th>\n      <td>31</td>\n      <td>31</td>\n      <td>31</td>\n      <td>31</td>\n      <td>31</td>\n      <td>31</td>\n      <td>31</td>\n      <td>31</td>\n      <td>31</td>\n    </tr>\n    <tr>\n      <th>Algeria</th>\n      <td>41</td>\n      <td>41</td>\n      <td>41</td>\n      <td>41</td>\n      <td>41</td>\n      <td>41</td>\n      <td>41</td>\n      <td>41</td>\n      <td>41</td>\n    </tr>\n    <tr>\n      <th>Angola</th>\n      <td>32</td>\n      <td>32</td>\n      <td>32</td>\n      <td>32</td>\n      <td>32</td>\n      <td>32</td>\n      <td>32</td>\n      <td>32</td>\n      <td>32</td>\n    </tr>\n    <tr>\n      <th>Antigua and Barbuda</th>\n      <td>20</td>\n      <td>20</td>\n      <td>20</td>\n      <td>20</td>\n      <td>20</td>\n      <td>20</td>\n      <td>20</td>\n      <td>20</td>\n      <td>20</td>\n    </tr>\n    <tr>\n      <th>...</th>\n      <td>...</td>\n      <td>...</td>\n      <td>...</td>\n      <td>...</td>\n      <td>...</td>\n      <td>...</td>\n      <td>...</td>\n      <td>...</td>\n      <td>...</td>\n    </tr>\n    <tr>\n      <th>Uruguay</th>\n      <td>35</td>\n      <td>35</td>\n      <td>35</td>\n      <td>35</td>\n      <td>35</td>\n      <td>35</td>\n      <td>35</td>\n      <td>35</td>\n      <td>35</td>\n    </tr>\n    <tr>\n      <th>Vanuatu</th>\n      <td>14</td>\n      <td>14</td>\n      <td>14</td>\n      <td>14</td>\n      <td>14</td>\n      <td>14</td>\n      <td>14</td>\n      <td>14</td>\n      <td>14</td>\n    </tr>\n    <tr>\n      <th>Yemen</th>\n      <td>33</td>\n      <td>33</td>\n      <td>33</td>\n      <td>33</td>\n      <td>33</td>\n      <td>33</td>\n      <td>33</td>\n      <td>33</td>\n      <td>33</td>\n    </tr>\n    <tr>\n      <th>Zambia</th>\n      <td>34</td>\n      <td>34</td>\n      <td>34</td>\n      <td>34</td>\n      <td>34</td>\n      <td>34</td>\n      <td>34</td>\n      <td>34</td>\n      <td>34</td>\n    </tr>\n    <tr>\n      <th>Zimbabwe</th>\n      <td>42</td>\n      <td>42</td>\n      <td>42</td>\n      <td>42</td>\n      <td>42</td>\n      <td>42</td>\n      <td>42</td>\n      <td>42</td>\n      <td>42</td>\n    </tr>\n  </tbody>\n</table>\n<p>148 rows × 9 columns</p>\n</div>"
     },
     "metadata": {},
     "execution_count": 10
    }
   ],
   "source": [
    "df_clean.groupby(['Area']).count()"
   ]
  },
  {
   "cell_type": "markdown",
   "metadata": {},
   "source": [
    "149 unique countries"
   ]
  },
  {
   "cell_type": "code",
   "execution_count": 22,
   "metadata": {},
   "outputs": [],
   "source": [
    "df_items = df_clean.groupby(['Item'])[\"Value\"].sum().reset_index()"
   ]
  },
  {
   "cell_type": "code",
   "execution_count": 23,
   "metadata": {},
   "outputs": [
    {
     "output_type": "execute_result",
     "data": {
      "text/plain": "                     Item  Value\n0       Alcohol, Non-Food      0\n1     Apples and products   2197\n2                 Bananas  13160\n3     Barley and products   4284\n4                   Beans   1255\n..                    ...    ...\n80  Tomatoes and products   8899\n81      Vegetables, Other  38444\n82     Wheat and products  18784\n83                   Wine    178\n84                   Yams   6429\n\n[85 rows x 2 columns]",
      "text/html": "<div>\n<style scoped>\n    .dataframe tbody tr th:only-of-type {\n        vertical-align: middle;\n    }\n\n    .dataframe tbody tr th {\n        vertical-align: top;\n    }\n\n    .dataframe thead th {\n        text-align: right;\n    }\n</style>\n<table border=\"1\" class=\"dataframe\">\n  <thead>\n    <tr style=\"text-align: right;\">\n      <th></th>\n      <th>Item</th>\n      <th>Value</th>\n    </tr>\n  </thead>\n  <tbody>\n    <tr>\n      <th>0</th>\n      <td>Alcohol, Non-Food</td>\n      <td>0</td>\n    </tr>\n    <tr>\n      <th>1</th>\n      <td>Apples and products</td>\n      <td>2197</td>\n    </tr>\n    <tr>\n      <th>2</th>\n      <td>Bananas</td>\n      <td>13160</td>\n    </tr>\n    <tr>\n      <th>3</th>\n      <td>Barley and products</td>\n      <td>4284</td>\n    </tr>\n    <tr>\n      <th>4</th>\n      <td>Beans</td>\n      <td>1255</td>\n    </tr>\n    <tr>\n      <th>...</th>\n      <td>...</td>\n      <td>...</td>\n    </tr>\n    <tr>\n      <th>80</th>\n      <td>Tomatoes and products</td>\n      <td>8899</td>\n    </tr>\n    <tr>\n      <th>81</th>\n      <td>Vegetables, Other</td>\n      <td>38444</td>\n    </tr>\n    <tr>\n      <th>82</th>\n      <td>Wheat and products</td>\n      <td>18784</td>\n    </tr>\n    <tr>\n      <th>83</th>\n      <td>Wine</td>\n      <td>178</td>\n    </tr>\n    <tr>\n      <th>84</th>\n      <td>Yams</td>\n      <td>6429</td>\n    </tr>\n  </tbody>\n</table>\n<p>85 rows × 2 columns</p>\n</div>"
     },
     "metadata": {},
     "execution_count": 23
    }
   ],
   "source": [
    "df_items"
   ]
  },
  {
   "cell_type": "code",
   "execution_count": 31,
   "metadata": {},
   "outputs": [
    {
     "output_type": "execute_result",
     "data": {
      "text/plain": "                       Item   Value\n73               Sugar cane  108668\n81        Vegetables, Other   38444\n57    Potatoes and products   27641\n10     Cassava and products   27540\n33       Maize and products   26054\n62        Rice and products   25432\n82       Wheat and products   18784\n24            Fruits, Other   15739\n35  Milk - Excluding Butter   14531\n2                   Bananas   13160\n80    Tomatoes and products    8899\n72               Sugar beet    6862\n47      Oranges, Mandarines    6780\n84                     Yams    6429\n46                   Onions    4383\n3       Barley and products    4284\n56                Plantains    3886\n55  Pineapples and products    3544\n16    Coconuts - Incl Copra    3389\n77           Sweet potatoes    3311",
      "text/html": "<div>\n<style scoped>\n    .dataframe tbody tr th:only-of-type {\n        vertical-align: middle;\n    }\n\n    .dataframe tbody tr th {\n        vertical-align: top;\n    }\n\n    .dataframe thead th {\n        text-align: right;\n    }\n</style>\n<table border=\"1\" class=\"dataframe\">\n  <thead>\n    <tr style=\"text-align: right;\">\n      <th></th>\n      <th>Item</th>\n      <th>Value</th>\n    </tr>\n  </thead>\n  <tbody>\n    <tr>\n      <th>73</th>\n      <td>Sugar cane</td>\n      <td>108668</td>\n    </tr>\n    <tr>\n      <th>81</th>\n      <td>Vegetables, Other</td>\n      <td>38444</td>\n    </tr>\n    <tr>\n      <th>57</th>\n      <td>Potatoes and products</td>\n      <td>27641</td>\n    </tr>\n    <tr>\n      <th>10</th>\n      <td>Cassava and products</td>\n      <td>27540</td>\n    </tr>\n    <tr>\n      <th>33</th>\n      <td>Maize and products</td>\n      <td>26054</td>\n    </tr>\n    <tr>\n      <th>62</th>\n      <td>Rice and products</td>\n      <td>25432</td>\n    </tr>\n    <tr>\n      <th>82</th>\n      <td>Wheat and products</td>\n      <td>18784</td>\n    </tr>\n    <tr>\n      <th>24</th>\n      <td>Fruits, Other</td>\n      <td>15739</td>\n    </tr>\n    <tr>\n      <th>35</th>\n      <td>Milk - Excluding Butter</td>\n      <td>14531</td>\n    </tr>\n    <tr>\n      <th>2</th>\n      <td>Bananas</td>\n      <td>13160</td>\n    </tr>\n    <tr>\n      <th>80</th>\n      <td>Tomatoes and products</td>\n      <td>8899</td>\n    </tr>\n    <tr>\n      <th>72</th>\n      <td>Sugar beet</td>\n      <td>6862</td>\n    </tr>\n    <tr>\n      <th>47</th>\n      <td>Oranges, Mandarines</td>\n      <td>6780</td>\n    </tr>\n    <tr>\n      <th>84</th>\n      <td>Yams</td>\n      <td>6429</td>\n    </tr>\n    <tr>\n      <th>46</th>\n      <td>Onions</td>\n      <td>4383</td>\n    </tr>\n    <tr>\n      <th>3</th>\n      <td>Barley and products</td>\n      <td>4284</td>\n    </tr>\n    <tr>\n      <th>56</th>\n      <td>Plantains</td>\n      <td>3886</td>\n    </tr>\n    <tr>\n      <th>55</th>\n      <td>Pineapples and products</td>\n      <td>3544</td>\n    </tr>\n    <tr>\n      <th>16</th>\n      <td>Coconuts - Incl Copra</td>\n      <td>3389</td>\n    </tr>\n    <tr>\n      <th>77</th>\n      <td>Sweet potatoes</td>\n      <td>3311</td>\n    </tr>\n  </tbody>\n</table>\n</div>"
     },
     "metadata": {},
     "execution_count": 31
    }
   ],
   "source": [
    "df_items.sort_values(by=[\"Value\"], ascending=False).head(20)"
   ]
  },
  {
   "cell_type": "code",
   "execution_count": null,
   "metadata": {},
   "outputs": [],
   "source": []
  }
 ],
 "metadata": {
  "language_info": {
   "codemirror_mode": {
    "name": "ipython",
    "version": 3
   },
   "file_extension": ".py",
   "mimetype": "text/x-python",
   "name": "python",
   "nbconvert_exporter": "python",
   "pygments_lexer": "ipython3",
   "version": "3.8.1-final"
  },
  "orig_nbformat": 2,
  "kernelspec": {
   "name": "python38164bitnlpworkshopcondaa2ffc3fa793f4a718f4cf4af82c401cd",
   "display_name": "Python 3.8.1 64-bit ('nlp-workshop': conda)"
  }
 },
 "nbformat": 4,
 "nbformat_minor": 2
}